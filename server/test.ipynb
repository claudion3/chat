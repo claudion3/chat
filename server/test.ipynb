{
 "cells": [
  {
   "cell_type": "code",
   "execution_count": 14,
   "metadata": {},
   "outputs": [],
   "source": [
    "import pandas as pd\n",
    "import json"
   ]
  },
  {
   "cell_type": "code",
   "execution_count": 15,
   "metadata": {},
   "outputs": [],
   "source": [
    "\n",
    "with open(\"intents.json\") as f:\n",
    "    data=json.load(f)\n"
   ]
  },
  {
   "cell_type": "code",
   "execution_count": 21,
   "metadata": {},
   "outputs": [
    {
     "data": {
      "text/html": [
       "<div>\n",
       "<style scoped>\n",
       "    .dataframe tbody tr th:only-of-type {\n",
       "        vertical-align: middle;\n",
       "    }\n",
       "\n",
       "    .dataframe tbody tr th {\n",
       "        vertical-align: top;\n",
       "    }\n",
       "\n",
       "    .dataframe thead th {\n",
       "        text-align: right;\n",
       "    }\n",
       "</style>\n",
       "<table border=\"1\" class=\"dataframe\">\n",
       "  <thead>\n",
       "    <tr style=\"text-align: right;\">\n",
       "      <th></th>\n",
       "      <th>0</th>\n",
       "      <th>1</th>\n",
       "      <th>2</th>\n",
       "    </tr>\n",
       "  </thead>\n",
       "  <tbody>\n",
       "    <tr>\n",
       "      <th>0</th>\n",
       "      <td>greeting</td>\n",
       "      <td>[Hi, Hey, helo, How are you, Is anyone there?,...</td>\n",
       "      <td>[Hey :-), Hello, Hi there?, Hi there, how is g...</td>\n",
       "    </tr>\n",
       "    <tr>\n",
       "      <th>1</th>\n",
       "      <td>goodbye</td>\n",
       "      <td>[Bye, See you later, Goodbye]</td>\n",
       "      <td>[See you later, thanks for chatting, Have a ni...</td>\n",
       "    </tr>\n",
       "    <tr>\n",
       "      <th>2</th>\n",
       "      <td>reply greetings</td>\n",
       "      <td>[Going good, Going well, fine]</td>\n",
       "      <td>[Nice to hear that., Good., Cool.]</td>\n",
       "    </tr>\n",
       "    <tr>\n",
       "      <th>3</th>\n",
       "      <td>name</td>\n",
       "      <td>[What your name, your name, nam]</td>\n",
       "      <td>[I am X, My name is X, Call me X]</td>\n",
       "    </tr>\n",
       "    <tr>\n",
       "      <th>4</th>\n",
       "      <td>thanks</td>\n",
       "      <td>[Thanks, Thank you, That's helpful, Thank's a ...</td>\n",
       "      <td>[Happy to help!, Any time!, My pleasure]</td>\n",
       "    </tr>\n",
       "    <tr>\n",
       "      <th>5</th>\n",
       "      <td>items</td>\n",
       "      <td>[Which items do you have?, What kinds of items...</td>\n",
       "      <td>[We sell coffee and tea, We have coffee and tea]</td>\n",
       "    </tr>\n",
       "    <tr>\n",
       "      <th>6</th>\n",
       "      <td>payments</td>\n",
       "      <td>[Do you take credit cards?, Do you accept Mast...</td>\n",
       "      <td>[We accept VISA, Mastercard and Paypal, We acc...</td>\n",
       "    </tr>\n",
       "    <tr>\n",
       "      <th>7</th>\n",
       "      <td>delivery</td>\n",
       "      <td>[How long does delivery take?, How long does s...</td>\n",
       "      <td>[Delivery takes 2-4 days, Shipping takes 2-4 d...</td>\n",
       "    </tr>\n",
       "    <tr>\n",
       "      <th>8</th>\n",
       "      <td>funny</td>\n",
       "      <td>[Tell me a joke!, Tell me something funny!, Do...</td>\n",
       "      <td>[Why did the hipster burn his mouth? He drank ...</td>\n",
       "    </tr>\n",
       "  </tbody>\n",
       "</table>\n",
       "</div>"
      ],
      "text/plain": [
       "                 0                                                  1  \\\n",
       "0         greeting  [Hi, Hey, helo, How are you, Is anyone there?,...   \n",
       "1          goodbye                      [Bye, See you later, Goodbye]   \n",
       "2  reply greetings                     [Going good, Going well, fine]   \n",
       "3             name                   [What your name, your name, nam]   \n",
       "4           thanks  [Thanks, Thank you, That's helpful, Thank's a ...   \n",
       "5            items  [Which items do you have?, What kinds of items...   \n",
       "6         payments  [Do you take credit cards?, Do you accept Mast...   \n",
       "7         delivery  [How long does delivery take?, How long does s...   \n",
       "8            funny  [Tell me a joke!, Tell me something funny!, Do...   \n",
       "\n",
       "                                                   2  \n",
       "0  [Hey :-), Hello, Hi there?, Hi there, how is g...  \n",
       "1  [See you later, thanks for chatting, Have a ni...  \n",
       "2                 [Nice to hear that., Good., Cool.]  \n",
       "3                  [I am X, My name is X, Call me X]  \n",
       "4           [Happy to help!, Any time!, My pleasure]  \n",
       "5   [We sell coffee and tea, We have coffee and tea]  \n",
       "6  [We accept VISA, Mastercard and Paypal, We acc...  \n",
       "7  [Delivery takes 2-4 days, Shipping takes 2-4 d...  \n",
       "8  [Why did the hipster burn his mouth? He drank ...  "
      ]
     },
     "execution_count": 21,
     "metadata": {},
     "output_type": "execute_result"
    }
   ],
   "source": [
    "tag=[]\n",
    "patterns=[]\n",
    "responses=[]\n",
    "dt=[]\n",
    "for i in data['intents']:\n",
    "    if i['tag']:\n",
    "        tag.append(i['tag'])\n",
    "       \n",
    "    if i['patterns']:\n",
    "        patterns.append(i['patterns'])\n",
    "        \n",
    "    if i['responses']:\n",
    "        responses.append(i['responses'])\n",
    "       \n",
    "\n",
    "# for i in data['intents']:\n",
    "#       patterns.append(i['patterns'])\n",
    "\n",
    "# for i in data['intents']:\n",
    "#       responses.append(i['responses'])\n",
    "dt.append(tag)\n",
    "dt.append(patterns)\n",
    "dt.append(responses)\n",
    "df=pd.DataFrame(dt).head().T\n",
    "df"
   ]
  },
  {
   "cell_type": "code",
   "execution_count": 17,
   "metadata": {},
   "outputs": [],
   "source": [
    "#df.head()"
   ]
  }
 ],
 "metadata": {
  "kernelspec": {
   "display_name": "Python 3.9.1 64-bit",
   "language": "python",
   "name": "python3"
  },
  "language_info": {
   "codemirror_mode": {
    "name": "ipython",
    "version": 3
   },
   "file_extension": ".py",
   "mimetype": "text/x-python",
   "name": "python",
   "nbconvert_exporter": "python",
   "pygments_lexer": "ipython3",
   "version": "3.9.1"
  },
  "orig_nbformat": 4,
  "vscode": {
   "interpreter": {
    "hash": "81794d4967e6c3204c66dcd87b604927b115b27c00565d3d43f05ba2f3a2cb0d"
   }
  }
 },
 "nbformat": 4,
 "nbformat_minor": 2
}
